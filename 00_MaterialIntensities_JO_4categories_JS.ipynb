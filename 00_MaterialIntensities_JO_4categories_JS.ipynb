{
 "cells": [
  {
   "cell_type": "code",
   "execution_count": 1,
   "id": "32afea5c-a10f-4c21-a7c5-3476d8b77f40",
   "metadata": {},
   "outputs": [],
   "source": [
    "# -*- coding: utf-8 -*-\n",
    "# author: juudit.ottelin@ntnu.no\n",
    "# date: 16.4.2024\n",
    "#\"\"\"Consumption-based material intensities for final demand, Exiobase 2015\"\"\"\n",
    "# modified by Julia Sborz, on 08.05.2024, to include material categories"
   ]
  },
  {
   "cell_type": "code",
   "execution_count": 2,
   "id": "85b3b2d5-26a9-458e-ba45-bcefad635736",
   "metadata": {},
   "outputs": [],
   "source": [
    "import pandas as pd\n",
    "import numpy as np\n",
    "import os"
   ]
  },
  {
   "cell_type": "code",
   "execution_count": 3,
   "id": "07a854dc-58e7-4c2c-b57b-24cd3d405437",
   "metadata": {},
   "outputs": [
    {
     "name": "stdout",
     "output_type": "stream",
     "text": [
      "C:\\Users\\juliasbo\n"
     ]
    }
   ],
   "source": [
    "cwd = os.getcwd()\n",
    "print(cwd)"
   ]
  },
  {
   "cell_type": "code",
   "execution_count": 4,
   "id": "0c6105bb-086f-4347-a6a8-e41faaab6355",
   "metadata": {},
   "outputs": [
    {
     "ename": "FileNotFoundError",
     "evalue": "[Errno 2] No such file or directory: 'X:\\\\indecol\\\\Projects\\\\EXIOBASE_dev\\\\EXIOBASE_3_8_2\\\\upload_to_Box\\\\private\\\\IOT_txt\\\\pxp\\\\IOT_2019_pxp\\\\Y.txt'",
     "output_type": "error",
     "traceback": [
      "\u001b[1;31m---------------------------------------------------------------------------\u001b[0m",
      "\u001b[1;31mFileNotFoundError\u001b[0m                         Traceback (most recent call last)",
      "Cell \u001b[1;32mIn[4], line 2\u001b[0m\n\u001b[0;32m      1\u001b[0m \u001b[38;5;66;03m# Bring Y, Z, A, and F matrixes\u001b[39;00m\n\u001b[1;32m----> 2\u001b[0m df_Y \u001b[38;5;241m=\u001b[39m pd\u001b[38;5;241m.\u001b[39mread_csv(\u001b[38;5;124mr\u001b[39m\u001b[38;5;124m\"\u001b[39m\u001b[38;5;124mX:\u001b[39m\u001b[38;5;124m\\\u001b[39m\u001b[38;5;124mindecol\u001b[39m\u001b[38;5;124m\\\u001b[39m\u001b[38;5;124mProjects\u001b[39m\u001b[38;5;124m\\\u001b[39m\u001b[38;5;124mEXIOBASE_dev\u001b[39m\u001b[38;5;124m\\\u001b[39m\u001b[38;5;124mEXIOBASE_3_8_2\u001b[39m\u001b[38;5;124m\\\u001b[39m\u001b[38;5;124mupload_to_Box\u001b[39m\u001b[38;5;124m\\\u001b[39m\u001b[38;5;124mprivate\u001b[39m\u001b[38;5;124m\\\u001b[39m\u001b[38;5;124mIOT_txt\u001b[39m\u001b[38;5;124m\\\u001b[39m\u001b[38;5;124mpxp\u001b[39m\u001b[38;5;124m\\\u001b[39m\u001b[38;5;124mIOT_2019_pxp\u001b[39m\u001b[38;5;124m\\\u001b[39m\u001b[38;5;124mY.txt\u001b[39m\u001b[38;5;124m\"\u001b[39m, sep\u001b[38;5;241m=\u001b[39m\u001b[38;5;124m'\u001b[39m\u001b[38;5;130;01m\\t\u001b[39;00m\u001b[38;5;124m'\u001b[39m, header\u001b[38;5;241m=\u001b[39m[\u001b[38;5;241m0\u001b[39m,\u001b[38;5;241m1\u001b[39m], index_col\u001b[38;5;241m=\u001b[39m[\u001b[38;5;241m0\u001b[39m,\u001b[38;5;241m1\u001b[39m])\n\u001b[0;32m      3\u001b[0m df_Z \u001b[38;5;241m=\u001b[39m pd\u001b[38;5;241m.\u001b[39mread_csv(\u001b[38;5;124mr\u001b[39m\u001b[38;5;124m\"\u001b[39m\u001b[38;5;124mX:\u001b[39m\u001b[38;5;124m\\\u001b[39m\u001b[38;5;124mindecol\u001b[39m\u001b[38;5;124m\\\u001b[39m\u001b[38;5;124mProjects\u001b[39m\u001b[38;5;124m\\\u001b[39m\u001b[38;5;124mEXIOBASE_dev\u001b[39m\u001b[38;5;124m\\\u001b[39m\u001b[38;5;124mEXIOBASE_3_8_2\u001b[39m\u001b[38;5;124m\\\u001b[39m\u001b[38;5;124mupload_to_Box\u001b[39m\u001b[38;5;124m\\\u001b[39m\u001b[38;5;124mprivate\u001b[39m\u001b[38;5;124m\\\u001b[39m\u001b[38;5;124mIOT_txt\u001b[39m\u001b[38;5;124m\\\u001b[39m\u001b[38;5;124mpxp\u001b[39m\u001b[38;5;124m\\\u001b[39m\u001b[38;5;124mIOT_2019_pxp\u001b[39m\u001b[38;5;124m\\\u001b[39m\u001b[38;5;124mZ.txt\u001b[39m\u001b[38;5;124m\"\u001b[39m, sep\u001b[38;5;241m=\u001b[39m\u001b[38;5;124m'\u001b[39m\u001b[38;5;130;01m\\t\u001b[39;00m\u001b[38;5;124m'\u001b[39m, header\u001b[38;5;241m=\u001b[39m[\u001b[38;5;241m0\u001b[39m,\u001b[38;5;241m1\u001b[39m], index_col\u001b[38;5;241m=\u001b[39m[\u001b[38;5;241m0\u001b[39m,\u001b[38;5;241m1\u001b[39m])\n\u001b[0;32m      4\u001b[0m df_A \u001b[38;5;241m=\u001b[39m pd\u001b[38;5;241m.\u001b[39mread_csv(\u001b[38;5;124mr\u001b[39m\u001b[38;5;124m\"\u001b[39m\u001b[38;5;124mX:\u001b[39m\u001b[38;5;124m\\\u001b[39m\u001b[38;5;124mindecol\u001b[39m\u001b[38;5;124m\\\u001b[39m\u001b[38;5;124mProjects\u001b[39m\u001b[38;5;124m\\\u001b[39m\u001b[38;5;124mEXIOBASE_dev\u001b[39m\u001b[38;5;124m\\\u001b[39m\u001b[38;5;124mEXIOBASE_3_8_2\u001b[39m\u001b[38;5;124m\\\u001b[39m\u001b[38;5;124mupload_to_Box\u001b[39m\u001b[38;5;124m\\\u001b[39m\u001b[38;5;124mprivate\u001b[39m\u001b[38;5;124m\\\u001b[39m\u001b[38;5;124mIOT_txt\u001b[39m\u001b[38;5;124m\\\u001b[39m\u001b[38;5;124mpxp\u001b[39m\u001b[38;5;124m\\\u001b[39m\u001b[38;5;124mIOT_2019_pxp\u001b[39m\u001b[38;5;124m\\\u001b[39m\u001b[38;5;124mA.txt\u001b[39m\u001b[38;5;124m\"\u001b[39m, sep\u001b[38;5;241m=\u001b[39m\u001b[38;5;124m'\u001b[39m\u001b[38;5;130;01m\\t\u001b[39;00m\u001b[38;5;124m'\u001b[39m, header\u001b[38;5;241m=\u001b[39m[\u001b[38;5;241m0\u001b[39m,\u001b[38;5;241m1\u001b[39m], index_col\u001b[38;5;241m=\u001b[39m[\u001b[38;5;241m0\u001b[39m,\u001b[38;5;241m1\u001b[39m])\n",
      "File \u001b[1;32m~\\AppData\\Local\\anaconda3\\Lib\\site-packages\\pandas\\io\\parsers\\readers.py:948\u001b[0m, in \u001b[0;36mread_csv\u001b[1;34m(filepath_or_buffer, sep, delimiter, header, names, index_col, usecols, dtype, engine, converters, true_values, false_values, skipinitialspace, skiprows, skipfooter, nrows, na_values, keep_default_na, na_filter, verbose, skip_blank_lines, parse_dates, infer_datetime_format, keep_date_col, date_parser, date_format, dayfirst, cache_dates, iterator, chunksize, compression, thousands, decimal, lineterminator, quotechar, quoting, doublequote, escapechar, comment, encoding, encoding_errors, dialect, on_bad_lines, delim_whitespace, low_memory, memory_map, float_precision, storage_options, dtype_backend)\u001b[0m\n\u001b[0;32m    935\u001b[0m kwds_defaults \u001b[38;5;241m=\u001b[39m _refine_defaults_read(\n\u001b[0;32m    936\u001b[0m     dialect,\n\u001b[0;32m    937\u001b[0m     delimiter,\n\u001b[1;32m   (...)\u001b[0m\n\u001b[0;32m    944\u001b[0m     dtype_backend\u001b[38;5;241m=\u001b[39mdtype_backend,\n\u001b[0;32m    945\u001b[0m )\n\u001b[0;32m    946\u001b[0m kwds\u001b[38;5;241m.\u001b[39mupdate(kwds_defaults)\n\u001b[1;32m--> 948\u001b[0m \u001b[38;5;28;01mreturn\u001b[39;00m _read(filepath_or_buffer, kwds)\n",
      "File \u001b[1;32m~\\AppData\\Local\\anaconda3\\Lib\\site-packages\\pandas\\io\\parsers\\readers.py:611\u001b[0m, in \u001b[0;36m_read\u001b[1;34m(filepath_or_buffer, kwds)\u001b[0m\n\u001b[0;32m    608\u001b[0m _validate_names(kwds\u001b[38;5;241m.\u001b[39mget(\u001b[38;5;124m\"\u001b[39m\u001b[38;5;124mnames\u001b[39m\u001b[38;5;124m\"\u001b[39m, \u001b[38;5;28;01mNone\u001b[39;00m))\n\u001b[0;32m    610\u001b[0m \u001b[38;5;66;03m# Create the parser.\u001b[39;00m\n\u001b[1;32m--> 611\u001b[0m parser \u001b[38;5;241m=\u001b[39m TextFileReader(filepath_or_buffer, \u001b[38;5;241m*\u001b[39m\u001b[38;5;241m*\u001b[39mkwds)\n\u001b[0;32m    613\u001b[0m \u001b[38;5;28;01mif\u001b[39;00m chunksize \u001b[38;5;129;01mor\u001b[39;00m iterator:\n\u001b[0;32m    614\u001b[0m     \u001b[38;5;28;01mreturn\u001b[39;00m parser\n",
      "File \u001b[1;32m~\\AppData\\Local\\anaconda3\\Lib\\site-packages\\pandas\\io\\parsers\\readers.py:1448\u001b[0m, in \u001b[0;36mTextFileReader.__init__\u001b[1;34m(self, f, engine, **kwds)\u001b[0m\n\u001b[0;32m   1445\u001b[0m     \u001b[38;5;28mself\u001b[39m\u001b[38;5;241m.\u001b[39moptions[\u001b[38;5;124m\"\u001b[39m\u001b[38;5;124mhas_index_names\u001b[39m\u001b[38;5;124m\"\u001b[39m] \u001b[38;5;241m=\u001b[39m kwds[\u001b[38;5;124m\"\u001b[39m\u001b[38;5;124mhas_index_names\u001b[39m\u001b[38;5;124m\"\u001b[39m]\n\u001b[0;32m   1447\u001b[0m \u001b[38;5;28mself\u001b[39m\u001b[38;5;241m.\u001b[39mhandles: IOHandles \u001b[38;5;241m|\u001b[39m \u001b[38;5;28;01mNone\u001b[39;00m \u001b[38;5;241m=\u001b[39m \u001b[38;5;28;01mNone\u001b[39;00m\n\u001b[1;32m-> 1448\u001b[0m \u001b[38;5;28mself\u001b[39m\u001b[38;5;241m.\u001b[39m_engine \u001b[38;5;241m=\u001b[39m \u001b[38;5;28mself\u001b[39m\u001b[38;5;241m.\u001b[39m_make_engine(f, \u001b[38;5;28mself\u001b[39m\u001b[38;5;241m.\u001b[39mengine)\n",
      "File \u001b[1;32m~\\AppData\\Local\\anaconda3\\Lib\\site-packages\\pandas\\io\\parsers\\readers.py:1705\u001b[0m, in \u001b[0;36mTextFileReader._make_engine\u001b[1;34m(self, f, engine)\u001b[0m\n\u001b[0;32m   1703\u001b[0m     \u001b[38;5;28;01mif\u001b[39;00m \u001b[38;5;124m\"\u001b[39m\u001b[38;5;124mb\u001b[39m\u001b[38;5;124m\"\u001b[39m \u001b[38;5;129;01mnot\u001b[39;00m \u001b[38;5;129;01min\u001b[39;00m mode:\n\u001b[0;32m   1704\u001b[0m         mode \u001b[38;5;241m+\u001b[39m\u001b[38;5;241m=\u001b[39m \u001b[38;5;124m\"\u001b[39m\u001b[38;5;124mb\u001b[39m\u001b[38;5;124m\"\u001b[39m\n\u001b[1;32m-> 1705\u001b[0m \u001b[38;5;28mself\u001b[39m\u001b[38;5;241m.\u001b[39mhandles \u001b[38;5;241m=\u001b[39m get_handle(\n\u001b[0;32m   1706\u001b[0m     f,\n\u001b[0;32m   1707\u001b[0m     mode,\n\u001b[0;32m   1708\u001b[0m     encoding\u001b[38;5;241m=\u001b[39m\u001b[38;5;28mself\u001b[39m\u001b[38;5;241m.\u001b[39moptions\u001b[38;5;241m.\u001b[39mget(\u001b[38;5;124m\"\u001b[39m\u001b[38;5;124mencoding\u001b[39m\u001b[38;5;124m\"\u001b[39m, \u001b[38;5;28;01mNone\u001b[39;00m),\n\u001b[0;32m   1709\u001b[0m     compression\u001b[38;5;241m=\u001b[39m\u001b[38;5;28mself\u001b[39m\u001b[38;5;241m.\u001b[39moptions\u001b[38;5;241m.\u001b[39mget(\u001b[38;5;124m\"\u001b[39m\u001b[38;5;124mcompression\u001b[39m\u001b[38;5;124m\"\u001b[39m, \u001b[38;5;28;01mNone\u001b[39;00m),\n\u001b[0;32m   1710\u001b[0m     memory_map\u001b[38;5;241m=\u001b[39m\u001b[38;5;28mself\u001b[39m\u001b[38;5;241m.\u001b[39moptions\u001b[38;5;241m.\u001b[39mget(\u001b[38;5;124m\"\u001b[39m\u001b[38;5;124mmemory_map\u001b[39m\u001b[38;5;124m\"\u001b[39m, \u001b[38;5;28;01mFalse\u001b[39;00m),\n\u001b[0;32m   1711\u001b[0m     is_text\u001b[38;5;241m=\u001b[39mis_text,\n\u001b[0;32m   1712\u001b[0m     errors\u001b[38;5;241m=\u001b[39m\u001b[38;5;28mself\u001b[39m\u001b[38;5;241m.\u001b[39moptions\u001b[38;5;241m.\u001b[39mget(\u001b[38;5;124m\"\u001b[39m\u001b[38;5;124mencoding_errors\u001b[39m\u001b[38;5;124m\"\u001b[39m, \u001b[38;5;124m\"\u001b[39m\u001b[38;5;124mstrict\u001b[39m\u001b[38;5;124m\"\u001b[39m),\n\u001b[0;32m   1713\u001b[0m     storage_options\u001b[38;5;241m=\u001b[39m\u001b[38;5;28mself\u001b[39m\u001b[38;5;241m.\u001b[39moptions\u001b[38;5;241m.\u001b[39mget(\u001b[38;5;124m\"\u001b[39m\u001b[38;5;124mstorage_options\u001b[39m\u001b[38;5;124m\"\u001b[39m, \u001b[38;5;28;01mNone\u001b[39;00m),\n\u001b[0;32m   1714\u001b[0m )\n\u001b[0;32m   1715\u001b[0m \u001b[38;5;28;01massert\u001b[39;00m \u001b[38;5;28mself\u001b[39m\u001b[38;5;241m.\u001b[39mhandles \u001b[38;5;129;01mis\u001b[39;00m \u001b[38;5;129;01mnot\u001b[39;00m \u001b[38;5;28;01mNone\u001b[39;00m\n\u001b[0;32m   1716\u001b[0m f \u001b[38;5;241m=\u001b[39m \u001b[38;5;28mself\u001b[39m\u001b[38;5;241m.\u001b[39mhandles\u001b[38;5;241m.\u001b[39mhandle\n",
      "File \u001b[1;32m~\\AppData\\Local\\anaconda3\\Lib\\site-packages\\pandas\\io\\common.py:863\u001b[0m, in \u001b[0;36mget_handle\u001b[1;34m(path_or_buf, mode, encoding, compression, memory_map, is_text, errors, storage_options)\u001b[0m\n\u001b[0;32m    858\u001b[0m \u001b[38;5;28;01melif\u001b[39;00m \u001b[38;5;28misinstance\u001b[39m(handle, \u001b[38;5;28mstr\u001b[39m):\n\u001b[0;32m    859\u001b[0m     \u001b[38;5;66;03m# Check whether the filename is to be opened in binary mode.\u001b[39;00m\n\u001b[0;32m    860\u001b[0m     \u001b[38;5;66;03m# Binary mode does not support 'encoding' and 'newline'.\u001b[39;00m\n\u001b[0;32m    861\u001b[0m     \u001b[38;5;28;01mif\u001b[39;00m ioargs\u001b[38;5;241m.\u001b[39mencoding \u001b[38;5;129;01mand\u001b[39;00m \u001b[38;5;124m\"\u001b[39m\u001b[38;5;124mb\u001b[39m\u001b[38;5;124m\"\u001b[39m \u001b[38;5;129;01mnot\u001b[39;00m \u001b[38;5;129;01min\u001b[39;00m ioargs\u001b[38;5;241m.\u001b[39mmode:\n\u001b[0;32m    862\u001b[0m         \u001b[38;5;66;03m# Encoding\u001b[39;00m\n\u001b[1;32m--> 863\u001b[0m         handle \u001b[38;5;241m=\u001b[39m \u001b[38;5;28mopen\u001b[39m(\n\u001b[0;32m    864\u001b[0m             handle,\n\u001b[0;32m    865\u001b[0m             ioargs\u001b[38;5;241m.\u001b[39mmode,\n\u001b[0;32m    866\u001b[0m             encoding\u001b[38;5;241m=\u001b[39mioargs\u001b[38;5;241m.\u001b[39mencoding,\n\u001b[0;32m    867\u001b[0m             errors\u001b[38;5;241m=\u001b[39merrors,\n\u001b[0;32m    868\u001b[0m             newline\u001b[38;5;241m=\u001b[39m\u001b[38;5;124m\"\u001b[39m\u001b[38;5;124m\"\u001b[39m,\n\u001b[0;32m    869\u001b[0m         )\n\u001b[0;32m    870\u001b[0m     \u001b[38;5;28;01melse\u001b[39;00m:\n\u001b[0;32m    871\u001b[0m         \u001b[38;5;66;03m# Binary mode\u001b[39;00m\n\u001b[0;32m    872\u001b[0m         handle \u001b[38;5;241m=\u001b[39m \u001b[38;5;28mopen\u001b[39m(handle, ioargs\u001b[38;5;241m.\u001b[39mmode)\n",
      "\u001b[1;31mFileNotFoundError\u001b[0m: [Errno 2] No such file or directory: 'X:\\\\indecol\\\\Projects\\\\EXIOBASE_dev\\\\EXIOBASE_3_8_2\\\\upload_to_Box\\\\private\\\\IOT_txt\\\\pxp\\\\IOT_2019_pxp\\\\Y.txt'"
     ]
    }
   ],
   "source": [
    "# Bring Y, Z, A, and F matrixes\n",
    "df_Y = pd.read_csv(r\"X:\\indecol\\Projects\\EXIOBASE_dev\\EXIOBASE_3_8_2\\upload_to_Box\\private\\IOT_txt\\pxp\\IOT_2019_pxp\\Y.txt\", sep='\\t', header=[0,1], index_col=[0,1])\n",
    "df_Z = pd.read_csv(r\"X:\\indecol\\Projects\\EXIOBASE_dev\\EXIOBASE_3_8_2\\upload_to_Box\\private\\IOT_txt\\pxp\\IOT_2019_pxp\\Z.txt\", sep='\\t', header=[0,1], index_col=[0,1])\n",
    "df_A = pd.read_csv(r\"X:\\indecol\\Projects\\EXIOBASE_dev\\EXIOBASE_3_8_2\\upload_to_Box\\private\\IOT_txt\\pxp\\IOT_2019_pxp\\A.txt\", sep='\\t', header=[0,1], index_col=[0,1])\n",
    "# from satellite accounts\n",
    "df_F = pd.read_csv(r\"X:\\indecol\\Projects\\EXIOBASE_dev\\EXIOBASE_3_8_2\\upload_to_Box\\private\\IOT_txt\\pxp\\IOT_2019_pxp\\satellite\\F.txt\", sep='\\t', header=[0,1], index_col=[0])"
   ]
  },
  {
   "cell_type": "code",
   "execution_count": 24,
   "id": "b75295cc-f872-497a-8184-0c9035a75ded",
   "metadata": {},
   "outputs": [],
   "source": [
    "# Read file with categorization into 4 material groups\n",
    "new_grouping = pd.read_csv(\"\\\\\\\\home.ansatt.ntnu.no\\\\juliasbo\\\\Documents\\\\PhD_research\\\\Models\\\\2020_2019\\\\Data\\\\new_grouping_2019.csv\",index_col=[0])"
   ]
  },
  {
   "cell_type": "code",
   "execution_count": 6,
   "id": "c92820a7-6170-4326-91fa-e94467555cd8",
   "metadata": {},
   "outputs": [],
   "source": [
    "# Lists of regions, products and FD categories\n",
    "\n",
    "regions = list(df_Z.index.get_level_values(0).unique())\n",
    "products = list(df_Z.index.get_level_values(1).unique())\n",
    "FD_categories = list(df_Y.columns.get_level_values(1).unique())"
   ]
  },
  {
   "cell_type": "code",
   "execution_count": 7,
   "id": "ad73c9fa-7085-44d6-91a6-a40bda2d6e49",
   "metadata": {},
   "outputs": [],
   "source": [
    "# Calculate Leontief's inverse\n",
    "\n",
    "matrixI = np.identity(9800)\n",
    "matrixImA = matrixI - df_A.values\n",
    "from numpy.linalg import inv\n",
    "matrixL = inv(matrixImA)"
   ]
  },
  {
   "cell_type": "code",
   "execution_count": 8,
   "id": "d663f80e-2c7b-433b-b186-65f84a32dc8e",
   "metadata": {},
   "outputs": [
    {
     "name": "stdout",
     "output_type": "stream",
     "text": [
      "[    0.           359.79773658   864.54809943 ... 35533.35519031\n",
      "  6245.82863651     0.        ]\n"
     ]
    }
   ],
   "source": [
    "# Calculate xout\n",
    "\n",
    "df_xout = df_Z.sum(axis=1) + df_Y.sum(axis=1)\n",
    "array_xout = df_xout.values\n",
    "print(array_xout)"
   ]
  },
  {
   "cell_type": "code",
   "execution_count": 9,
   "id": "a2e0ce63-17ff-4594-8b0b-8451c8fe4a64",
   "metadata": {},
   "outputs": [
    {
     "name": "stdout",
     "output_type": "stream",
     "text": [
      "[    0.           359.79773658   864.54809943 ... 35533.35519031\n",
      "  6245.82863651     0.        ]\n"
     ]
    }
   ],
   "source": [
    "# Check that xout = L*(sum FD)\n",
    "array_sFD = df_Y.sum(axis=1)        # it's not an array? \n",
    "xout2 = matrixL@array_sFD           # Apparently, we can multiply matrix with a pandas.series (?!)\n",
    "print(xout2)                        # We get a numpy array! "
   ]
  },
  {
   "cell_type": "code",
   "execution_count": 10,
   "id": "9938feed-8ce2-48bd-8036-ed36c3d08251",
   "metadata": {},
   "outputs": [
    {
     "data": {
      "text/plain": [
       "157028217.75839323"
      ]
     },
     "execution_count": 10,
     "metadata": {},
     "output_type": "execute_result"
    }
   ],
   "source": [
    "xout2.sum()"
   ]
  },
  {
   "cell_type": "code",
   "execution_count": 15,
   "id": "2267a3d7-2467-48a6-85d3-fd6129f29017",
   "metadata": {},
   "outputs": [],
   "source": [
    "# Calculate total domestic extraction used (sum of lines) = (raw material extraction = RME) - ORIGINAL, FROM J.O., for total MF\n",
    "#sRME = np.sum(df_F.loc[df_F.index.str.contains('Domestic Extraction Used')], axis=0) #  [470:687]\n",
    "#array_sRME = sRME.to_numpy()\n",
    "#check1 = np.sum(array_sRME[0:])/1000\n",
    "#print(check1, \"Mt\")\n",
    "\n",
    "# Classify and sum the domestic extraction used (sum of lines) according to the 4 material categories - MODIFIED, FROM J.S., for MF per material type\n",
    "sRME = df_F.loc[df_F.index.str.contains('Domestic Extraction Used')]\n",
    "# merge new grouping to the original file\n",
    "# in order to merge, both should have just one level (multi-indexed data cannot be joined or merged with simple indexed data)\n",
    "sRME_columns = sRME.columns \n",
    "sRME_grouped = pd.concat([sRME,new_grouping], axis = 1)\n",
    "# remove unused, if it is included in the grouping file\n",
    "sRME_grouped = sRME_grouped.loc[sRME_grouped.index.str.contains('Domestic Extraction Used')]\n",
    "# sum by group\n",
    "sRME_grouped_sum = sRME_grouped.groupby(['new_impact']).sum()"
   ]
  },
  {
   "cell_type": "code",
   "execution_count": 81,
   "id": "22963a6d-400d-4dca-b4cf-4eb9fdb73cd8",
   "metadata": {},
   "outputs": [
    {
     "name": "stdout",
     "output_type": "stream",
     "text": [
      "10.649966564277642 t/capita\n"
     ]
    }
   ],
   "source": [
    "# check total MF\n",
    "print(sRME_grouped_sum.sum().sum()/7404000, \"t/capita\") # 10**6 \\ 10**6, Mt/Million people = t/person, value should be the same as in the code for total MF of the same year"
   ]
  },
  {
   "cell_type": "code",
   "execution_count": 83,
   "id": "45402de4-f422-485b-a6a4-f5c7a1553497",
   "metadata": {},
   "outputs": [
    {
     "name": "stdout",
     "output_type": "stream",
     "text": [
      "[[0.         3.93677453 3.82905675 ... 0.         0.         0.        ]\n",
      " [0.         0.         0.         ... 0.         0.         0.        ]\n",
      " [0.         0.         0.         ... 0.         0.         0.        ]\n",
      " [0.         0.         0.         ... 0.         0.         0.        ]]\n"
     ]
    }
   ],
   "source": [
    "# Calculate production-based intensities, array_PBi\n",
    "\n",
    "with np.errstate(divide=\"ignore\", invalid=\"ignore\"):\n",
    "    array_PBi = sRME_grouped_sum / array_xout      # These need to be in the same shape, hence above line\n",
    "    array_PBi[array_PBi == np.inf] = 0      # convert inf to zeros\n",
    "    array_PBi = np.nan_to_num(array_PBi)    # convert NAN to zeros\n",
    "print(array_PBi)"
   ]
  },
  {
   "cell_type": "code",
   "execution_count": 84,
   "id": "825ff63f-04a5-448c-bbfa-da635569c7ce",
   "metadata": {},
   "outputs": [],
   "source": [
    "# Calculate consumption-based intensities, array_CBi\n",
    "array_CBi = array_PBi@matrixL"
   ]
  },
  {
   "cell_type": "code",
   "execution_count": 102,
   "id": "dcce2bcb-7b8d-4d16-9027-a9b2ed236a3c",
   "metadata": {
    "scrolled": true
   },
   "outputs": [],
   "source": [
    "# Calculate PBA and CBA domestic extraction used (Mt)\n",
    "PBA_sRME = np.array(sRME_grouped_sum)/1000          # (ok, territorial accounts are basically F)\n",
    "CBA_sRME = np.array(array_CBi)*np.stack((array_sFD,) * 4, axis=0)/1000 # "
   ]
  },
  {
   "cell_type": "code",
   "execution_count": 106,
   "id": "b3ab2c2d-0c4e-42c8-b605-00ed80caca65",
   "metadata": {},
   "outputs": [
    {
     "name": "stdout",
     "output_type": "stream",
     "text": [
      "78830.55291667399 total CBA\n",
      "78852.35244191167 total PBA\n"
     ]
    }
   ],
   "source": [
    "# Check that CBA and PBA give the same total material use at the global level\n",
    "print(CBA_sRME.sum().sum(), \"total CBA\")\n",
    "print(PBA_sRME.sum().sum(), \"total PBA\")"
   ]
  },
  {
   "cell_type": "code",
   "execution_count": 120,
   "id": "99c217b7-0ee6-412b-9f47-903e47755d44",
   "metadata": {},
   "outputs": [],
   "source": [
    "# Multiply final demand with CBi (you need to use df.mul-function, otherwise a shape problem)\n",
    "MF1_biomass = df_Y.mul(array_CBi[0], axis=0)        # shape (9800, 343)\n",
    "MF2_biomass = MF1_biomass.groupby([\"sector\"]).sum()      # shape (200, 343)\n",
    "\n",
    "MF1_fossil = df_Y.mul(array_CBi[1], axis=0)        # shape (9800, 343)\n",
    "MF2_fossil = MF1_fossil.groupby([\"sector\"]).sum()      # shape (200, 343)\n",
    "\n",
    "MF1_metal = df_Y.mul(array_CBi[2], axis=0)        # shape (9800, 343)\n",
    "MF2_metal = MF1_metal.groupby([\"sector\"]).sum()      # shape (200, 343)\n",
    "\n",
    "MF1_nonmetal = df_Y.mul(array_CBi[3], axis=0)        # shape (9800, 343)\n",
    "MF2_nonmetal = MF1_nonmetal.groupby([\"sector\"]).sum()      # shape (200, 343)"
   ]
  },
  {
   "cell_type": "code",
   "execution_count": 121,
   "id": "a2444cef-2cee-45fb-9557-01a74b61349c",
   "metadata": {},
   "outputs": [
    {
     "name": "stdout",
     "output_type": "stream",
     "text": [
      "78830.55291667399 Mt\n"
     ]
    }
   ],
   "source": [
    "# Check global material footprint (MF)\n",
    "print((MF2_biomass.sum().sum() + MF2_fossil.sum().sum() + MF2_metal.sum().sum() + MF2_nonmetal.sum().sum())/1000, \"Mt\")"
   ]
  },
  {
   "cell_type": "code",
   "execution_count": 170,
   "id": "5ecf4084-f399-42da-86db-97b077def689",
   "metadata": {},
   "outputs": [],
   "source": [
    "# CBi of FD, per category\n",
    "FD2 = df_Y.groupby([\"sector\"]).sum()      # shape (200, 343)\n",
    "\n",
    "# per category\n",
    "CBi_FD_biomass = MF2_biomass/FD2\n",
    "CBi_FD_fossil = MF2_fossil/FD2\n",
    "CBi_FD_metal = MF2_metal/FD2\n",
    "CBi_FD_nonmetal = MF2_nonmetal/FD2\n",
    "\n",
    "# append them all together\n",
    "CBi_FD = pd.concat([CBi_FD_biomass,CBi_FD_fossil, CBi_FD_metal, CBi_FD_nonmetal], axis = 1)\n",
    "\n",
    "# Dataframe with only household demand, transpose\n",
    "CBi_FDhh = CBi_FD.drop([\"Final consumption expenditure by non-profit organisations serving households (NPISH)\", \"Final consumption expenditure by government\", \"Gross fixed capital formation\", \"Changes in inventories\",\"Changes in valuables\", \"Exports: Total (fob)\"], axis=1, level=1).T\n",
    "\n",
    "CBi_FDhh.insert(loc=0, column='Material Category', value='NA')\n",
    "\n",
    "CBi_FDhh.iloc[0:49,0] = \"Biomass\"\n",
    "CBi_FDhh.iloc[50:98,0] = \"Fossil Fuels\"\n",
    "CBi_FDhh.iloc[99:147,0] = \"Metals\"\n",
    "CBi_FDhh.iloc[148:196,0] = \"Non-metallic minerals\"\n",
    "CBi_FDhh = CBi_FDhh.droplevel(1, axis=0)"
   ]
  },
  {
   "cell_type": "code",
   "execution_count": 171,
   "id": "a2c6a3c2-2083-4c60-a6e1-fe0f29451eea",
   "metadata": {
    "scrolled": true
   },
   "outputs": [],
   "source": [
    "# export\n",
    "CBi_FDhh.to_excel(\"\\\\\\\\home.ansatt.ntnu.no\\\\juliasbo\\\\Documents\\\\PhD_research\\\\Models\\\\2020_2019_4categories\\\\Output\\\\\" + \"CBi_FDhh_4MF.xlsx\")"
   ]
  },
  {
   "cell_type": "code",
   "execution_count": 174,
   "id": "c7cd43b3-2058-4008-a2f1-6206aaca0363",
   "metadata": {},
   "outputs": [],
   "source": [
    "#select only electricity waste to use as input in the weighted average\n",
    "electricity_waste = CBi_FDhh.filter(regex='Material Category|countries|electricity|Electricity|waste|landfill')\n",
    "electricity_waste.head() # 33 columns, ok\n",
    "#export\n",
    "electricity_waste.to_excel(\"\\\\\\\\home.ansatt.ntnu.no\\\\juliasbo\\\\Documents\\\\PhD_research\\\\Models\\\\2020_2019_4categories\\\\Output\\\\\" + \"electricity_waste.xlsx\")"
   ]
  }
 ],
 "metadata": {
  "kernelspec": {
   "display_name": "Python 3 (ipykernel)",
   "language": "python",
   "name": "python3"
  },
  "language_info": {
   "codemirror_mode": {
    "name": "ipython",
    "version": 3
   },
   "file_extension": ".py",
   "mimetype": "text/x-python",
   "name": "python",
   "nbconvert_exporter": "python",
   "pygments_lexer": "ipython3",
   "version": "3.11.7"
  }
 },
 "nbformat": 4,
 "nbformat_minor": 5
}
